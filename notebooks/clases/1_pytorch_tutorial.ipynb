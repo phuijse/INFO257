{
 "cells": [
  {
   "cell_type": "code",
   "execution_count": null,
   "metadata": {},
   "outputs": [],
   "source": [
    "%autosave 0\n",
    "%matplotlib notebook\n",
    "import numpy as np\n",
    "import matplotlib.pyplot as plt\n",
    "from IPython.display import display\n",
    "import ipywidgets as widgets\n",
    "from matplotlib import animation\n",
    "from functools import partial\n",
    "slider_layout = widgets.Layout(width='600px', height='20px')\n",
    "slider_style = {'description_width': 'initial'}\n",
    "IntSlider_nice = partial(widgets.IntSlider, style=slider_style, layout=slider_layout, continuous_update=False)\n",
    "FloatSlider_nice = partial(widgets.FloatSlider, style=slider_style, layout=slider_layout, continuous_update=False)\n",
    "SelSlider_nice = partial(widgets.SelectionSlider, style=slider_style, layout=slider_layout, continuous_update=False)"
   ]
  },
  {
   "cell_type": "markdown",
   "metadata": {},
   "source": [
    "# Instalación de PyTorch\n",
    "\n",
    "La forma más recomendada es usando el manejador de ambientes y paquetes `conda`\n",
    "\n",
    "Si no conoces conda por favor revisa esta breve clase de INFO147: https://github.com/magister-informatica-uach/INFO147/blob/master/unidad1/02_ambientes_virtuales.ipynb\n",
    "\n",
    "Una vez hayas creado un ambiente de `conda` debes escoger entre instalar pytorch con soporte de GPU\n",
    "\n",
    "    conda install pytorch torchvision cudatoolkit=10.2 ignite -c pytorch\n",
    "\n",
    "o sin soporte GPU \n",
    "\n",
    "    conda install pytorch torchvision cpuonly ignite -c pytorch\n",
    "\n"
   ]
  },
  {
   "attachments": {
    "tensor_illustration.png": {
     "image/png": "[encoded data removed]"
    }
   },
   "cell_type": "markdown",
   "metadata": {},
   "source": [
    "# Breve tutorial de [PyTorch](https://pytorch.org) \n",
    "\n",
    "PyTorch es una librería de alto nivel para Python que provee \n",
    "1. Una clase tensor para hacer cómputo de alto rendimiento \n",
    "1. Un plataforma para crear y entrenar redes neuronales\n",
    "\n",
    "### Torch Tensor\n",
    "\n",
    "La clase [`torch.Tensor`](https://pytorch.org/docs/stable/tensors.html) es muy similar en uso al `ndarray` de [*NumPy*](https://numpy.org/)\n",
    "\n",
    "Un tensor corresponde a una matriz o arreglo n-dimensional con tipo definido que soporta operaciónes vectoriales tipo SIMD y broadcasting\n",
    "\n",
    "\n",
    "![tensor_illustration.png](attachment:tensor_illustration.png)\n",
    "\n",
    "La documentación de la clase con todas las operaciones que soporta: https://pytorch.org/docs/stable/tensors.html\n",
    "\n",
    "A continuación revisaremos las más fundamentales"
   ]
  },
  {
   "cell_type": "code",
   "execution_count": null,
   "metadata": {},
   "outputs": [],
   "source": [
    "import torch\n",
    "torch.__version__"
   ]
  },
  {
   "cell_type": "markdown",
   "metadata": {},
   "source": [
    "#### Creación de tensores\n",
    "\n",
    "Un tensor puede crearse usando constructores de torch o a partir de datos existentes: lista de Python o *ndarray* de NumPy"
   ]
  },
  {
   "cell_type": "code",
   "execution_count": null,
   "metadata": {},
   "outputs": [],
   "source": [
    "# Un tensor de 10 ceros\n",
    "display(torch.zeros(10))\n",
    "# Un tensor de 10 unos\n",
    "display(torch.ones(10))\n",
    "# Un tensor de números linealmente espaciados\n",
    "display(torch.linspace(0, 9, steps=10))\n",
    "# Un tensor de 10 números aleatorios con distribución N(0, 1)\n",
    "display(torch.randn(10))\n",
    "# Un tensor creado a partir de una lista\n",
    "display(torch.Tensor([0, 1, 2, 3, 4, 5, 6]))\n",
    "# Un tensor creado a partir de un ndarray\n",
    "numpy_array = np.random.randn(10)\n",
    "display(torch.from_numpy(numpy_array))"
   ]
  },
  {
   "cell_type": "markdown",
   "metadata": {},
   "source": [
    "#### Atributos importantes de los tensores\n",
    "\n",
    "Un tensor tiene un tamaño (dimesiones) y tipo específico\n",
    "\n",
    "Un tensor puede estar alojado en la memoria del sistema ('cpu') o en la memoria de dispositivo ('gpu')"
   ]
  },
  {
   "cell_type": "code",
   "execution_count": null,
   "metadata": {},
   "outputs": [],
   "source": [
    "a = torch.randn(10, 20, 30)\n",
    "display(a.shape)\n",
    "display(a.dtype)\n",
    "display(a.device)\n",
    "display(a.requires_grad)"
   ]
  },
  {
   "cell_type": "markdown",
   "metadata": {},
   "source": [
    "Cuando se crea un tensor se puede especificar el tipo y el dispositivo"
   ]
  },
  {
   "cell_type": "code",
   "execution_count": null,
   "metadata": {},
   "outputs": [],
   "source": [
    "a = torch.zeros(10, dtype=torch.int32, device='cuda')\n",
    "display(a)"
   ]
  },
  {
   "cell_type": "markdown",
   "metadata": {},
   "source": [
    "#### Manipulación de tensores\n",
    "\n",
    "Podemos manipular la forma de un tensor usando: reshape, flatten, roll, traspose, unsqueeze, entre otros"
   ]
  },
  {
   "cell_type": "code",
   "execution_count": null,
   "metadata": {},
   "outputs": [],
   "source": [
    "a = torch.linspace(0, 9, 10)\n",
    "display(a)\n",
    "display(a.reshape(2, 5))\n",
    "display(a.reshape(2, 5).t())\n",
    "display(a.reshape(2, 5).flatten())\n",
    "display(a.roll(2))\n",
    "display(a.unsqueeze(1))"
   ]
  },
  {
   "cell_type": "markdown",
   "metadata": {},
   "source": [
    "#### Cálculos con tensores\n",
    "\n",
    "Un tensor soporta operaciones aritméticas y lógicas\n",
    "\n",
    "Si el tensor está en memoria de sistema entonces las operaciones son realizadas por la CPU "
   ]
  },
  {
   "cell_type": "code",
   "execution_count": null,
   "metadata": {},
   "outputs": [],
   "source": [
    "a = torch.linspace(0, 5, steps=6)\n",
    "display(a)\n",
    "# aritmética y funciones\n",
    "display(a + 5)\n",
    "display(2*a)\n",
    "display(a.pow(2))\n",
    "display(a.log())\n",
    "# máscaras booleanas\n",
    "display(a[a>3])\n",
    "# Operaciones con otros tensores\n",
    "b = torch.ones(6)\n",
    "display(a + b)\n",
    "display(a*b)\n",
    "# broadcasting\n",
    "display(a.unsqueeze(1)*b.unsqueeze(0))"
   ]
  },
  {
   "cell_type": "markdown",
   "metadata": {},
   "source": [
    "#### Cálculos en GPU\n",
    "\n",
    "Usando el atributo `to` podemos intercambiar un tensor entre GPU ('device') y CPU ('host')\n",
    "\n",
    "Cuando todos los tensores involucrados en una operaciones están en memoria de dispositivo entonces el cálculo lo hace la GPU\n",
    "\n",
    "La siguiente nota indica las opciones para intercambiar datos entre GPU y CPU que ofrece PyTorch: https://pytorch.org/docs/stable/notes/cuda.html \n",
    "\n",
    "##### Breve nota: \n",
    "Una *Graphical Processing Unit* (GPU) o tarjeta de video es un hardware para hacer cálculos sobre mallas tridimensionales, generación de imágenes (rendering) y otras tareas gráficas. A diferencia de la CPU, la GPU es especialista en cálculo paralelo y tiene miles de nucleos (NVIDIA RTX 2080: 2944 nucleos)"
   ]
  },
  {
   "cell_type": "code",
   "execution_count": null,
   "metadata": {},
   "outputs": [],
   "source": [
    "a = torch.zeros(10)\n",
    "display(a.device)\n",
    "a = a.to('cuda')\n",
    "display(a.device)"
   ]
  },
  {
   "cell_type": "markdown",
   "metadata": {},
   "source": [
    "### Auto-diferenciación\n",
    "\n",
    "Las redes neuronales se entrenan usando **Gradiente descedente**\n",
    "\n",
    "> Necesitamos calcular las derivadas de la función de costo para todos los parámetros de la red\n",
    "\n",
    "Esto puede ser complejo si nuestra red es grande y tiene distintos tipos de capas\n",
    "\n",
    "PyTorch viene incorporado con un sistema de diferenciación automática denominado [`autograd`](https://pytorch.org/docs/stable/autograd.html) \n",
    "\n",
    "Para poder derivar una función en pytorch\n",
    "\n",
    "1. Se necesita que su entrada sean tensores con el atributo `requires_grad=True`\n",
    "1. Luego llamamos la función `backward()` de la función\n",
    "1. El resultado queda guardado en el atributo `grad` de la entrada (nodo hoja)"
   ]
  },
  {
   "cell_type": "code",
   "execution_count": null,
   "metadata": {},
   "outputs": [],
   "source": [
    "x = torch.linspace(0, 10, steps=1000, requires_grad=True)\n",
    "\n",
    "y = 5*x -20\n",
    "#y = torch.sin(2.0*np.pi*x)*torch.exp(-(x-5).pow(2)/3)\n",
    "#dydx = 2*np.pi*torch.cos(2.0*np.pi*x)*torch.exp(-(x-5).pow(2)/3) - 2/3*(x-5)*torch.sin(2.0*np.pi*x)*torch.exp(-(x-5).pow(2)/3)\n",
    "\n",
    "fig, ax = plt.subplots(figsize=(6, 3))\n",
    "ax.plot(x.detach().numpy(), y.detach().numpy(), label='y')\n",
    "\n",
    "y.backward(torch.ones_like(x))\n",
    "\n",
    "ax.plot(x.detach().numpy(), x.grad.detach().numpy(), label='dy/dx')\n",
    "#ax.plot(x.detach().numpy(), dydx.detach().numpy())\n",
    "plt.legend();"
   ]
  },
  {
   "cell_type": "markdown",
   "metadata": {},
   "source": [
    "### Grafo de cómputo\n",
    "\n",
    "Cuando contatenamos operaciones PyTorch construye internamente un \"grafo de cómputo\"\n",
    "\n",
    "$$\n",
    "x \\to z = f_1(x) \\to y = f_2(z)\n",
    "$$\n",
    "\n",
    "La función `backward` calcula los gradientes y los almacena en los nodo hoja que tengan `requires_grad=True`\n",
    "\n",
    "Por ejemplo\n",
    "\n",
    "    y.backward : Guarda dy/dx en x.grad\n",
    "    \n",
    "    z.backward : Guarda dz/dx en x.grad\n",
    "\n",
    "Basicamente `backward` implementa la regla de la cadena de las derivadas\n",
    "\n",
    "`backward` recibe una entrada: La derivada de la etapa superior de la cadena. Por defecto usa `torch.ones([1])`, asume que se está en el nivel superior y que la salida es escalar (unidimensional)"
   ]
  },
  {
   "cell_type": "code",
   "execution_count": null,
   "metadata": {},
   "outputs": [],
   "source": [
    "x = torch.linspace(0, 10, steps=1000, requires_grad=True) # Nodo hoja\n",
    "display(x.grad_fn)\n",
    "z = torch.sin(2*x)\n",
    "display(z.grad_fn)\n",
    "y = z.pow(2)/2\n",
    "display(y.grad_fn)\n",
    "\n",
    "fig, ax = plt.subplots(figsize=(6, 3), tight_layout=True)\n",
    "ax.plot(x.detach().numpy(), z.detach().numpy(), label='z')\n",
    "ax.plot(x.detach().numpy(), y.detach().numpy(), label='y')\n",
    "\n",
    "# Derivada dy/dx\n",
    "y.backward(torch.ones_like(x), create_graph=True)\n",
    "ax.plot(x.detach().numpy(), x.grad.detach().numpy(), label='dy/dx')\n",
    "\n",
    "# Borro el resultado en x.grad\n",
    "x.grad = None\n",
    "\n",
    "# Derivada dz/dx\n",
    "z.backward(torch.ones_like(x))\n",
    "ax.plot(x.detach().numpy(), x.grad.detach().numpy(), label='dz/dx')\n",
    "plt.legend();"
   ]
  },
  {
   "cell_type": "markdown",
   "metadata": {},
   "source": [
    "#  Definir una red neuronal en PyTorch\n",
    "\n",
    "PyTorch nos ofrece la clase tensor y las funcionalidades de autograd\n",
    "\n",
    "Estas poderosas herramientas nos dan todo lo necesario para construir y entrenar redes neuronales artificiales\n",
    "\n",
    "Para facilitar aun más estas tareas PyTorch tiene módulos de alto nivel que implementan\n",
    "\n",
    "1. Modelo base de red neuronal: `torch.nn.Module`\n",
    "1. Distintos tipos de capas, funciones de activación y funciones de costo: [`torch.nn`](https://pytorch.org/docs/stable/nn.html)\n",
    "1. Distintos algoritmos de optimización basados en gradiente descedente: [`torch.optim`](https://pytorch.org/docs/stable/optim.html)\n",
    "\n",
    "\n",
    "Una red neuronal en PyTorch se implementa\n",
    "1. Heredando de [`torch.nn.Module`](https://pytorch.org/docs/stable/nn.html#module)\n",
    "1. Especificando las funciones `__init__` y `forward`\n",
    "\n",
    "Otra opción es usar [`torch.nn.Sequential`](https://pytorch.org/docs/stable/nn.html#sequential) y especificar una lista de capas\n",
    "\n",
    "\n",
    "#### Red MLP en pytorch:\n",
    "\n",
    "Heredamos de `Module` y especificamos el constructor y la función `forward`\n",
    "\n",
    "Creamos una red de dos entradas, una capa oculta y una neurona salida\n",
    "\n",
    "La capa `torch.nn.Linear` con parámetro $W$ y $B$ realiza la siguiente operación sobre la entrada $X$\n",
    "\n",
    "$$\n",
    "Z = WX + B\n",
    "$$\n",
    "\n",
    "corresponde a la capa completamente conectada (*fully-connected*)"
   ]
  },
  {
   "cell_type": "code",
   "execution_count": null,
   "metadata": {},
   "outputs": [],
   "source": [
    "import torch\n",
    "\n",
    "class MultiLayerPerceptron(torch.nn.Module):\n",
    "\n",
    "    # Constructor: Crea las capas de la red\n",
    "    def __init__(self): \n",
    "        # Mandatorio: Llamar al constructor del padre:\n",
    "        super(type(self), self).__init__()  \n",
    "        # Creamos dos capas completamente conectadas\n",
    "        ?\n",
    "        ?\n",
    "        # Función de activación sigmoide\n",
    "        ?\n",
    "        \n",
    "    # Forward: Conecta la entrada con la salida\n",
    "    def forward(self, x):\n",
    "        # Pasamos x por la primera capa y luego aplicamos función de activación\n",
    "        ?\n",
    "        # Pasamos el resultado por la segunda capa y lo retornamos\n",
    "        return ?\n",
    "    "
   ]
  },
  {
   "cell_type": "markdown",
   "metadata": {},
   "source": [
    "Al crear una capa `Linear` de forma interna se registran los parámetros `weight` y `bias`, ambos con `requires_grad=True`\n",
    "\n",
    "Inicialmente los parámetros tienen valores aleatorios"
   ]
  },
  {
   "cell_type": "code",
   "execution_count": null,
   "metadata": {},
   "outputs": [],
   "source": [
    "model = MultiLayerPerceptron(hidden_dim=2)\n",
    "display(model.hidden.weight)\n",
    "display(model.hidden.bias)"
   ]
  },
  {
   "cell_type": "markdown",
   "metadata": {},
   "source": [
    "Podemos evaluar el modelo sobre un tensor "
   ]
  },
  {
   "cell_type": "code",
   "execution_count": null,
   "metadata": {},
   "outputs": [],
   "source": [
    "X = 10*torch.rand(10000, 2) - 5\n",
    "Y = model.forward(X)\n",
    "\n",
    "fig, ax = plt.subplots()\n",
    "X_numpy = X.detach().numpy()\n",
    "Y_numpy = Y.detach().numpy()\n",
    "ax.scatter(X_numpy[:, 0], X_numpy[:, 1], s=10, c=Y_numpy[:, 0], cmap=plt.cm.RdBu_r);"
   ]
  },
  {
   "cell_type": "markdown",
   "metadata": {},
   "source": [
    "# Entrenamiento de redes neuronales en Pytorch\n",
    "\n",
    "Para entrenar la neurona debemos definir \n",
    "\n",
    "1. Una función de costo: La \"qué\" vamos a minimizar\n",
    "1. Un algoritmo de optimización: El \"cómo\" vamos a minimizar\n",
    "\n",
    "Las funciones de costo están implementadas [`torch.nn`](https://pytorch.org/docs/stable/nn.html#loss-functions)\n",
    "\n",
    "y tienen la siguiente sintaxis\n",
    "```python\n",
    ">>> # Definimos el criterio\n",
    ">>> criterion = torch.nn.CrossEntropyLoss(reduction, # String, opciones 'sum', 'mean' o 'none'\n",
    "                                          weight=None, # Ponderación opcional para las clases\n",
    "                                          ...\n",
    "                                         )\n",
    ">>> # Lo usamos para calcular la calidad de la predicción\n",
    ">>> loss = criterion(output,  # Minibatch de datos\n",
    "                     target # Minibatch de etiquetas\n",
    "                    ) \n",
    "```\n",
    "\n",
    "Las funciones de costo más comunes son\n",
    "\n",
    "| Problema | Recibe | Etiqueta | Función de costo | \n",
    "|----| ----| ---- | ---- |\n",
    "|Regresión | Real | Real | `torch.nn.MSELoss()` | \n",
    "|Clasificación | [0, 1] | {0, 1} | `torch.nn.BCELoss()` | \n",
    "|Clasificación | Real | {0, 1} | `torch.nn.BCEWithLogitsLoss()` |\n",
    "|Clasificación (multiclase) | LogSoftmax | Entero |`torch.nn.LogLoss()` |\n",
    "|Clasificación (multiclase) | Real | Entero |`torch.nn.CrossEntropyLoss()` |\n",
    "\n",
    "\n",
    "> También puedes escribir tu mismo una función de costo usando aritmética y funciones como `torch.sum` o `torch.mean`\n",
    "\n",
    "Los algoritmos de optimización están implementados en el módulo [`torch.optim`](https://pytorch.org/docs/stable/optim.html?highlight=optim#module-torch.optim)\n",
    "\n",
    "La sintaxis general es\n",
    "\n",
    "```python\n",
    ">>> # Definimos un modelo de torch\n",
    ">>> model = ClaseTorchModule(...) \n",
    ">>> # Creamos el optimizador y le entregamos los parámetros que queremos que actualice\n",
    ">>> optimizer = torch.optim.SGD(model.parameters(), # Los parámetros del modelo\n",
    "                                lr=0.01, # La tasa de aprendizaje\n",
    "                                weight_decay=0, # Penalización L2 de los parámetros (lambda)\n",
    "                                momentum=0.9, # Otros parámetros específicos de cada optimizer\n",
    "                                ...\n",
    "                               )\n",
    "```\n",
    "Los optimizadores más comunes son\n",
    "\n",
    "| Optimizador | Descripción |\n",
    "| ---- | ---- |\n",
    "| `torch.optim.SGD` | Gradiente descedente estocástico con momentum|\n",
    "| `torch.optim.Adam` | Gradiente descedente con tasa de aprendizaje y momentum adaptivo |"
   ]
  },
  {
   "cell_type": "code",
   "execution_count": null,
   "metadata": {},
   "outputs": [],
   "source": [
    "# Función de costo entropía cruzada binaria\n",
    "criterion = torch.nn.BCEWithLogitsLoss(reduction='sum')\n",
    "\n",
    "# Algoritmo de optimización Gradiente Descendente Estocástico\n",
    "optimizer = torch.optim.SGD(model.parameters(), lr=1e-2)"
   ]
  },
  {
   "cell_type": "markdown",
   "metadata": {},
   "source": [
    "### Esquema general de entrenamiento\n",
    "\n",
    "\n",
    "\n",
    "``` python\n",
    ">>> for epoch in range(num_epochs): # Durante un cierto número de épocas\n",
    "        for minibatch in data: # Para cada minibatch de datos\n",
    "            optimizer.zero_grad() # Limpiamos los gradientes\n",
    "            x, y = minibatch # Desempaquetamos\n",
    "            yhat = model.forward(x) # Predecimos\n",
    "            loss = criterion(yhat, y) # Evaluamos\n",
    "            loss.backward() # Calculamos los gradientes\n",
    "            optimizer.step() # Actualizamos los parámetros\n",
    "```\n",
    "\n",
    "- Una época es una presentación completa del conjunto de entrenamiento\n",
    "- Un minibatch es un subconjunto del conjunto de entrenamiento"
   ]
  },
  {
   "cell_type": "markdown",
   "metadata": {},
   "source": [
    "### Entrenando con un solo dato\n",
    "\n",
    "Digamos que tenemos un dato $X$ y una etiqueta $Y$\n",
    "\n",
    "> Calculemos el error y actualizemos nuestro modelo"
   ]
  },
  {
   "cell_type": "code",
   "execution_count": null,
   "metadata": {},
   "outputs": [],
   "source": [
    "X = torch.tensor([[-1.0, 1.0]])\n",
    "Y = torch.tensor([[0.]])\n",
    "\n",
    "hatY = model.forward(X)\n",
    "display(hatY)\n",
    "loss = criterion(hatY, Y)\n",
    "display(loss)"
   ]
  },
  {
   "cell_type": "markdown",
   "metadata": {},
   "source": [
    "Una vez que calculamos la loss podemos calcular el gradiente"
   ]
  },
  {
   "cell_type": "code",
   "execution_count": null,
   "metadata": {},
   "outputs": [],
   "source": [
    "loss.backward()\n",
    "display(model.output.weight.grad)\n",
    "display(model.output.bias.grad)"
   ]
  },
  {
   "cell_type": "markdown",
   "metadata": {},
   "source": [
    "Finalmente actualizamos los parámetros usando la función `step` de nuestro optimizador"
   ]
  },
  {
   "cell_type": "code",
   "execution_count": null,
   "metadata": {},
   "outputs": [],
   "source": [
    "# Resetea los gradientes\n",
    "display(model.output.weight)\n",
    "display(model.output.bias)\n",
    "optimizer.step()\n",
    "display(model.output.weight)\n",
    "display(model.output.bias)"
   ]
  },
  {
   "cell_type": "markdown",
   "metadata": {},
   "source": [
    "Repetimos este proceso a través de varias \"épocas\" de entrenamiento"
   ]
  },
  {
   "cell_type": "code",
   "execution_count": null,
   "metadata": {},
   "outputs": [],
   "source": [
    "for nepoch in range(10):\n",
    "    # Calculamos la salida del modelo\n",
    "    hatY = model.forward(X)\n",
    "    # Reseteamos los gradientes de la iteración anterior\n",
    "    optimizer.zero_grad()\n",
    "    # Calculamos la función de costo\n",
    "    loss = criterion(hatY, Y)\n",
    "    # Calculamos su gradiente\n",
    "    loss.backward()\n",
    "    # Actualizamos los parámetros\n",
    "    optimizer.step()\n",
    "    print(\"%d w:%f %f b:%f\" %(nepoch, model.output.weight[0, 0], model.output.weight[0, 1], model.output.bias))"
   ]
  },
  {
   "cell_type": "markdown",
   "metadata": {},
   "source": [
    "### Entrenando en un conjunto de datos\n",
    "\n",
    "Consideremos un conjunto de entrenamiento con datos bidimensionales y dos clases como el siguiente\n",
    "\n",
    "\n",
    "\n",
    "> Notemos que no es linealmente separable"
   ]
  },
  {
   "cell_type": "code",
   "execution_count": null,
   "metadata": {},
   "outputs": [],
   "source": [
    "import sklearn.datasets\n",
    "data, labels = sklearn.datasets.make_circles(n_samples=1000, noise=0.2, factor=0.25)\n",
    "#data, labels = sklearn.datasets.make_moons(n_samples=1000, noise=0.2)\n",
    "#data, labels = sklearn.datasets.make_blobs(n_samples=[250]*4, n_features=2, cluster_std=0.5,\n",
    "#                                          centers=np.array([[-1, 1], [1, 1], [-1, -1], [1, -1]]))\n",
    "#labels[labels==2] = 1; labels[labels==3] = 0;\n",
    "\n",
    "fig, ax = plt.subplots(figsize=(8, 4))\n",
    "for k, marker in enumerate(['x', 'o']):\n",
    "    ax.scatter(data[labels==k, 0], data[labels==k, 1], s=20, marker=marker, alpha=0.75)\n",
    "    \n",
    "# Para las gráficas\n",
    "x_min, x_max = data[:, 0].min() - 0.5, data[:, 0].max() + 0.5\n",
    "y_min, y_max = data[:, 1].min() - 0.5, data[:, 1].max() + 0.5\n",
    "xx, yy = np.meshgrid(np.arange(x_min, x_max, 0.05), np.arange(y_min, y_max, 0.05))"
   ]
  },
  {
   "cell_type": "markdown",
   "metadata": {},
   "source": [
    "1. Antes de empezar el entrenamiento convertimos los datos a formato tensor de PyTorch\n",
    "1. Luego presentamos los datos en *mini-batches* a la red neuronal en cada época del entrenamiento\n",
    "\n",
    "PyTorch provee las clases `DataSet` y `DataLoader` para lograr estos objetivos\n",
    "\n",
    "Estas clases son parte del módulo data: https://pytorch.org/docs/stable/data.html\n",
    "\n",
    "\n",
    "Crearemos un set a partir de tensores usando una clase que hereda de `DataSet`\n",
    "\n",
    "```python\n",
    "    torch.utils.data.TensorDataset(*tensors # Una secuencia de tensores\n",
    "                                  )\n",
    "```    \n",
    "Luego crearemos conjuntos de entrenamiento y validación usando \n",
    "\n",
    "```python\n",
    "    torch.utils.data.Subset(dataset, # Un objeto que herede de DataSet\n",
    "                            indices # Un conjunto de índices para seleccionar un subconjunto de dataset\n",
    "                           )\n",
    "```    \n",
    "Finalmente crearemos dataloaders usando\n",
    "\n",
    "```python\n",
    "    torch.utils.data.DataLoader(dataset, # Un objeto que herede de DataSet\n",
    "                                batch_size=1, # Tamaño del minibatch \n",
    "                                shuffle=False, # Entregar los minibatches desordenados\n",
    "                                sampler=None, # O especificar una muestreador customizado\n",
    "                                num_workers=0, # Cuantos nucleos de CPU usar\n",
    "                                ...\n",
    "                               )\n",
    "```\n"
   ]
  },
  {
   "cell_type": "code",
   "execution_count": null,
   "metadata": {},
   "outputs": [],
   "source": [
    "import sklearn.model_selection\n",
    "# Separamos el data set en entrenamiento y validación\n",
    "train_idx, valid_idx = next(sklearn.model_selection.ShuffleSplit(train_size=0.6).split(data, labels))\n",
    "\n",
    "\n",
    "# Crear conjuntos de entrenamiento y prueba\n",
    "from torch.utils.data import DataLoader, TensorDataset, Subset \n",
    "\n",
    "# Creamos un conjunto de datos en formato tensor\n",
    "torch_set = TensorDataset(torch.from_numpy(data.astype('float32')), \n",
    "                          torch.from_numpy(labels.astype('float32')))\n",
    "\n",
    "# Data loader de entrenamiento\n",
    "torch_train_loader = DataLoader(Subset(torch_set, train_idx), shuffle=True, batch_size=32)\n",
    "# Data loader de validación\n",
    "torch_valid_loader = DataLoader(Subset(torch_set, valid_idx), shuffle=False, batch_size=256)"
   ]
  },
  {
   "cell_type": "markdown",
   "metadata": {},
   "source": [
    "Los `DataLoader` se ocupan como iteradores de Python"
   ]
  },
  {
   "cell_type": "code",
   "execution_count": null,
   "metadata": {},
   "outputs": [],
   "source": [
    "for sample_data, sample_label in torch_train_loader:\n",
    "    display(sample_data.shape)\n",
    "    display(sample_label.shape)\n",
    "    display(sample_label)\n",
    "    break"
   ]
  },
  {
   "cell_type": "markdown",
   "metadata": {},
   "source": [
    "#### Recordemos\n",
    "\n",
    "Para cada dato de entrenamiento:\n",
    "- Calculamos gradientes: `loss.backward`\n",
    "- Actualizamos parámetros `optimizer.step`\n",
    "\n",
    "Para cada dato de validación\n",
    "- Evaluamos la *loss* para detectar sobre-ajuste\n",
    "\n",
    "\n",
    "\n",
    "#### ¿Cuándo nos detenemos?\n",
    "\n",
    "Lo ideal es detener el entrenamiento cuando la loss de validación no haya disminuido durante una cierta cantidad de épocas\n",
    "\n",
    "Podemos usar [`save`](https://pytorch.org/tutorials/beginner/saving_loading_models.html) para ir guardando los parámetros del mejor modelo de validación\n",
    "\n",
    "Usamos un número fijo de épocas como resguardo: Si el modelo no ha convergido entonces debemos incrementarlo\n",
    "\n",
    "#### ¿Cómo afecta el resultado el número de neuronas en la capa oculta?"
   ]
  },
  {
   "cell_type": "code",
   "execution_count": null,
   "metadata": {},
   "outputs": [],
   "source": [
    "model = MultiLayerPerceptron(hidden_dim=3)\n",
    "criterion = torch.nn.BCEWithLogitsLoss(reduction='sum')\n",
    "optimizer = torch.optim.Adam(model.parameters(), lr=1e-2)\n",
    "n_epochs = 200\n",
    "running_loss = np.zeros(shape=(n_epochs, 2))\n",
    "\n",
    "best_valid = np.inf"
   ]
  },
  {
   "cell_type": "code",
   "execution_count": null,
   "metadata": {},
   "outputs": [],
   "source": [
    "def train_one_epoch(k, model, criterion, optimizer):\n",
    "    global best_valid\n",
    "    train_loss, valid_loss = 0.0, 0.0\n",
    "    \n",
    "    # Loop de entrenamiento\n",
    "    for sample_data, sample_label in torch_train_loader:\n",
    "        output = model.forward(sample_data)\n",
    "        optimizer.zero_grad()        \n",
    "        loss = criterion(output, sample_label.unsqueeze(1))  \n",
    "        train_loss += loss.item()\n",
    "        loss.backward()\n",
    "        optimizer.step()\n",
    "        \n",
    "    # Loop de validación\n",
    "    for sample_data, sample_label in torch_valid_loader:\n",
    "        output = model.forward(sample_data)\n",
    "        loss = criterion(output, sample_label.unsqueeze(1))  \n",
    "        valid_loss += loss.item()\n",
    "        \n",
    "    # Guardar modelo si es el mejor hasta ahora\n",
    "    if k % 10 == 0:\n",
    "        if valid_loss < best_valid:\n",
    "            best_valid = valid_loss\n",
    "            torch.save({'epoca': k,\n",
    "                        'model_state_dict': model.state_dict(),\n",
    "                        'optimizer_state_dict': optimizer.state_dict(),\n",
    "                        'loss': valid_loss}, '/home/phuijse/modelos/best_model.pt')\n",
    "    \n",
    "    return train_loss/torch_train_loader.dataset.__len__(), valid_loss/torch_valid_loader.dataset.__len__()"
   ]
  },
  {
   "cell_type": "code",
   "execution_count": null,
   "metadata": {},
   "outputs": [],
   "source": [
    "def update_plot(k):\n",
    "    global model, running_loss\n",
    "    [ax_.cla() for ax_ in ax]\n",
    "    running_loss[k, 0], running_loss[k, 1] = train_one_epoch(k, model, criterion, optimizer)\n",
    "    Z = model.forward(torch.from_numpy(np.c_[xx.ravel(), yy.ravel()].astype('float32')))\n",
    "    Z = Z.detach().numpy().reshape(xx.shape)\n",
    "    ax[0].contourf(xx, yy, Z, cmap=plt.cm.RdBu_r, alpha=1., vmin=0, vmax=1)\n",
    "    for i, (marker, name) in enumerate(zip(['o', 'x'], ['Train', 'Test'])):\n",
    "        ax[0].scatter(data[labels==i, 0], data[labels==i, 1], color='k', s=10, marker=marker, alpha=0.5)\n",
    "        ax[1].plot(np.arange(0, k+1, step=1), running_loss[:k+1, i], '-', label=name+\" cost\")\n",
    "    plt.legend(); ax[1].grid()\n",
    "\n",
    "fig, ax = plt.subplots(1, 2, figsize=(8, 3.5), tight_layout=True)\n",
    "update_plot(0)\n",
    "anim = animation.FuncAnimation(fig, update_plot, frames=n_epochs, \n",
    "                               interval=10, repeat=False, blit=False)"
   ]
  },
  {
   "cell_type": "markdown",
   "metadata": {},
   "source": [
    "Neuronas de capa oculta:"
   ]
  },
  {
   "cell_type": "code",
   "execution_count": null,
   "metadata": {},
   "outputs": [],
   "source": [
    "fig, ax = plt.subplots(1, model.hidden.out_features, figsize=(8, 3), tight_layout=True)\n",
    "\n",
    "Z = model.hidden(torch.from_numpy(np.c_[xx.ravel(), yy.ravel()].astype('float32'))).detach().numpy()\n",
    "Z = 1/(1+np.exp(-Z))\n",
    "for i in range(model.hidden.out_features):\n",
    "    ax[i].contourf(xx, yy, Z[:, i].reshape(xx.shape), \n",
    "                   cmap=plt.cm.RdBu_r, alpha=1., vmin=np.amin(Z), vmax=np.amax(Z))"
   ]
  },
  {
   "cell_type": "markdown",
   "metadata": {},
   "source": [
    "#### Recuperando el mejor modelo"
   ]
  },
  {
   "cell_type": "code",
   "execution_count": null,
   "metadata": {},
   "outputs": [],
   "source": [
    "model = MultiLayerPerceptron(hidden_dim=3)\n",
    "\n",
    "print(\"state_dict del módelo:\")\n",
    "for param_tensor in model.state_dict():\n",
    "    print(param_tensor, \"\\t\", model.state_dict()[param_tensor].size())\n",
    "    print(param_tensor, \"\\t\", model.state_dict()[param_tensor])\n",
    "\n",
    "\n",
    "    \n",
    "model.load_state_dict(torch.load('/home/phuijse/modelos/best_model.pt')['model_state_dict'])\n",
    "\n",
    "print(\" \")\n",
    "print(\"state_dict del módelo recuperado:\")\n",
    "for param_tensor in model.state_dict():\n",
    "    print(param_tensor, \"\\t\", model.state_dict()[param_tensor].size())\n",
    "    print(param_tensor, \"\\t\", model.state_dict()[param_tensor])\n",
    "\n"
   ]
  },
  {
   "cell_type": "markdown",
   "metadata": {},
   "source": [
    "## Diagnósticos a partir de curvas de aprendizaje\n",
    "\n",
    "Podemos diagnosticar el entrenamiento observando la evolución de la loss \n",
    "\n",
    "Siempre visualiza la loss en ambos conjuntos: entrenamiento y validación\n",
    "\n",
    "Algunos ejemplos\n",
    "\n",
    "#### Ambas curvas en descenso\n",
    "\n",
    "- Entrena por más épocas"
   ]
  },
  {
   "cell_type": "code",
   "execution_count": null,
   "metadata": {},
   "outputs": [],
   "source": [
    "epochs = np.arange(1, 500)\n",
    "loss_train = (epochs)**(-1/10) + 0.01*np.random.randn(len(epochs))\n",
    "loss_valid = (epochs)**(-1/10) + 0.01*np.random.randn(len(epochs)) + 0.1\n",
    "fig, ax = plt.subplots(figsize=(6, 3))\n",
    "ax.plot(epochs, loss_train, lw=2, label='entrenamiento')\n",
    "ax.plot(epochs, loss_valid, lw=2, label='validación')\n",
    "ax.set_ylim([0.5, 1.05])\n",
    "plt.legend();"
   ]
  },
  {
   "cell_type": "markdown",
   "metadata": {},
   "source": [
    "#### Muy poca diferencia entre error de entrenamiento y validación\n",
    "\n",
    "- Entrena por más épocas\n",
    "- Usa un modelo más complejo"
   ]
  },
  {
   "cell_type": "code",
   "execution_count": null,
   "metadata": {},
   "outputs": [],
   "source": [
    "epochs = np.arange(1, 500)\n",
    "loss_train = (epochs)**(-1/10) + 0.01*np.random.randn(len(epochs))\n",
    "loss_valid = (epochs)**(-1/10) + 0.01*np.random.randn(len(epochs)) + 0.01\n",
    "fig, ax = plt.subplots(figsize=(6, 3))\n",
    "ax.plot(epochs, loss_train, lw=2, label='entrenamiento')\n",
    "ax.plot(epochs, loss_valid, lw=2, label='validación')\n",
    "ax.set_ylim([0.5, 1.05])\n",
    "plt.legend();"
   ]
  },
  {
   "cell_type": "markdown",
   "metadata": {},
   "source": [
    "#### Sobreajuste temprano\n",
    "\n",
    "- Usa un modelo más sencillo\n",
    "- Usa más datos (aumentación)\n",
    "- Usa regularización (dropout, L2)"
   ]
  },
  {
   "cell_type": "code",
   "execution_count": null,
   "metadata": {},
   "outputs": [],
   "source": [
    "epochs = np.arange(1, 500)\n",
    "loss_train = (epochs)**(-1/10) + 0.01*np.random.randn(len(epochs))\n",
    "loss_valid = (epochs)**(-1/10) + 0.00001*(epochs)**2 +0.01*np.random.randn(len(epochs)) + 0.01\n",
    "fig, ax = plt.subplots(figsize=(6, 3))\n",
    "ax.plot(epochs, loss_train, lw=2, label='entrenamiento')\n",
    "ax.plot(epochs, loss_valid, lw=2, label='validación')\n",
    "ax.set_ylim([0.5, 1.05])\n",
    "plt.legend();"
   ]
  },
  {
   "cell_type": "markdown",
   "metadata": {},
   "source": [
    "#### Error en el código o mal punto de partida\n",
    "\n",
    "- Revisa que tu código no tenga bugs\n",
    "    - Función de costo\n",
    "    - Optimizador\n",
    "- Mala inicialización, reinicia el entrenamiento"
   ]
  },
  {
   "cell_type": "code",
   "execution_count": null,
   "metadata": {},
   "outputs": [],
   "source": [
    "epochs = np.arange(1, 500)\n",
    "loss_train = 1.0 + 0.01*np.random.randn(len(epochs))\n",
    "loss_valid = 1.0 + 0.01*np.random.randn(len(epochs)) + 0.01\n",
    "fig, ax = plt.subplots(figsize=(6, 3))\n",
    "ax.plot(epochs, loss_train, lw=2, label='entrenamiento')\n",
    "ax.plot(epochs, loss_valid, lw=2, label='validación')\n",
    "#ax.set_ylim([0.5, 1.05])\n",
    "plt.legend();"
   ]
  },
  {
   "cell_type": "code",
   "execution_count": null,
   "metadata": {},
   "outputs": [],
   "source": []
  }
 ],
 "metadata": {
  "kernelspec": {
   "display_name": "Python 3",
   "language": "python",
   "name": "python3"
  },
  "language_info": {
   "codemirror_mode": {
    "name": "ipython",
    "version": 3
   },
   "file_extension": ".py",
   "mimetype": "text/x-python",
   "name": "python",
   "nbconvert_exporter": "python",
   "pygments_lexer": "ipython3",
   "version": "3.8.1"
  }
 },
 "nbformat": 4,
 "nbformat_minor": 2
}

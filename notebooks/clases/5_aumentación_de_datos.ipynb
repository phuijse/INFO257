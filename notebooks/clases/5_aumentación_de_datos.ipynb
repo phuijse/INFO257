{
 "cells": [
  {
   "cell_type": "code",
   "execution_count": null,
   "metadata": {},
   "outputs": [],
   "source": [
    "%matplotlib notebook\n",
    "import numpy as np\n",
    "import matplotlib.pyplot as plt\n",
    "import torch"
   ]
  },
  {
   "cell_type": "markdown",
   "metadata": {},
   "source": [
    "# Aumentación de datos con `torchvision`\n",
    "\n",
    "Si tenemos un dataset de imágenes muy pequeño nuestro modelo podría sobreajustarse\n",
    "\n",
    "Podemos intentar incrementar nuestra dataset usando **transformaciones**\n",
    "\n",
    "Si rotamos, trasladamos o cambiamos el brillo de una imagen obtendremos una nueva imagen \"casi siempre\" de la misma clase\n",
    "\n",
    "*torchvision* tiene funciones implementadas para hacer transformaciones en imágenes\n",
    "\n",
    "- [Rotación aleatoria](https://pytorch.org/docs/stable/torchvision/transforms.html#torchvision.transforms.RandomRotation)\n",
    "- [Espejamiento aleatorio](https://pytorch.org/docs/stable/torchvision/transforms.html#torchvision.transforms.RandomHorizontalFlip)\n",
    "- [Cropping aleatorio](https://pytorch.org/docs/stable/torchvision/transforms.html#torchvision.transforms.RandomCrop): Recortar la imagen\n",
    "- [Cambios aleatorios de brillo y contraste](https://pytorch.org/docs/stable/torchvision/transforms.html#torchvision.transforms.ColorJitter)\n",
    "- [Transformación afin aleatoria](https://pytorch.org/docs/stable/torchvision/transforms.html)\n",
    "- [entre otros](https://pytorch.org/docs/stable/torchvision/transforms.html)\n",
    "\n",
    "Cada transformación permite especificar límites, por ejemplo \"máximo ángulo de rotación\", \"máxima distorsión de brillo\", etc\n",
    "\n",
    "Las transformaciones también sirven para hacer que la red gane \"invarianzas\"\n",
    "\n",
    "**Ejemplo:** Si entrenamos con copias rotadas de nuestras imágenes, la red se volverá invariante a la rotación\n",
    "\n",
    "## ATENCIÓN\n",
    "\n",
    "> Las transformaciones que apliquemos no deben cambiar la interpretación de clase\n",
    "\n",
    "- Si rotas un seis en 180 grados se convierte en un nueve\n",
    "- Si cambias demasiado el tono (hue) podrías obtener colores distintos a la realidad (¿perro verde?)\n",
    "\n"
   ]
  },
  {
   "cell_type": "markdown",
   "metadata": {},
   "source": [
    "# Transformaciones aleatorias\n",
    "\n",
    "La mayoría de las transformaciones están diseñadas para aplicarse sobre imágenes en formato PIL\n",
    "\n",
    "Podemos componer varias transformaciones usando [`torchvision.transforms.Compose`](https://pytorch.org/docs/stable/torchvision/transforms.html)"
   ]
  },
  {
   "cell_type": "code",
   "execution_count": null,
   "metadata": {},
   "outputs": [],
   "source": [
    "from torchvision import transforms\n",
    "\n",
    "from PIL import Image\n",
    "\n",
    "img = Image.open(\"img/dog.jpg\")\n",
    "\n",
    "my_transform = transforms.Compose([transforms.Resize(200),\n",
    "                                   transforms.RandomHorizontalFlip(),\n",
    "                                   transforms.RandomRotation(degrees=30),\n",
    "                                   transforms.ColorJitter(brightness=0.5, contrast=0.5,\n",
    "                                                          saturation=0.5, hue=0.0),\n",
    "                                  ])\n",
    "\n",
    "display(transforms.Resize(200)(img), my_transform(img))"
   ]
  },
  {
   "cell_type": "markdown",
   "metadata": {},
   "source": [
    "# Entrenando con datos aumentados\n",
    "\n",
    "Podemos componer una transformación y añadirla a un dataset\n",
    "\n",
    "Luego cuando usamos el dataloader se generaran imágenes con transformaciones aleatorias\n",
    "\n",
    "> **NUNCA OLVIDES** SOLO SE AUMENTA EL CONJUNTO DE ENTRENAMIENTO\n"
   ]
  },
  {
   "cell_type": "code",
   "execution_count": null,
   "metadata": {},
   "outputs": [],
   "source": [
    "from torchvision import datasets\n",
    "from torch.utils.data import DataLoader\n",
    "\n",
    "mnist_transform = transforms.Compose([transforms.RandomAffine(degrees=30, translate=(0.2, 0.2), \n",
    "                                                              scale=(0.5, 1.5), shear=None, \n",
    "                                                              resample=False, fillcolor=0),\n",
    "                                      transforms.ColorJitter(brightness=0.5, contrast=0.5, \n",
    "                                                             saturation=0.5, hue=0.0),\n",
    "                                      transforms.ToTensor()\n",
    "                                     ])\n",
    "from torchvision import datasets\n",
    "from torch.utils.data import DataLoader\n",
    "\n",
    "\n",
    "mnist_train_data = datasets.MNIST(root='~/datasets',\n",
    "                                  train=True, download=True,\n",
    "                                  transform=mnist_transform)\n",
    "\n",
    "train_loader = DataLoader(mnist_train_data, shuffle=False, batch_size=32)\n",
    "\n",
    "for image, label in train_loader:\n",
    "    break\n",
    "\n",
    "fig, ax = plt.subplots(4, 8, figsize=(7, 4), tight_layout=True)\n",
    "for k in range(32):\n",
    "    i, j = np.unravel_index(k, (4, 8))\n",
    "    ax[i, j].axis('off')\n",
    "    ax[i, j].set_title(label[k].numpy())\n",
    "    ax[i, j].imshow(image[k].numpy()[0, :, :], cmap=plt.cm.Greys_r)"
   ]
  },
  {
   "cell_type": "code",
   "execution_count": null,
   "metadata": {},
   "outputs": [],
   "source": []
  }
 ],
 "metadata": {
  "kernelspec": {
   "display_name": "Python 3",
   "language": "python",
   "name": "python3"
  },
  "language_info": {
   "codemirror_mode": {
    "name": "ipython",
    "version": 3
   },
   "file_extension": ".py",
   "mimetype": "text/x-python",
   "name": "python",
   "nbconvert_exporter": "python",
   "pygments_lexer": "ipython3",
   "version": "3.7.6"
  }
 },
 "nbformat": 4,
 "nbformat_minor": 2
}

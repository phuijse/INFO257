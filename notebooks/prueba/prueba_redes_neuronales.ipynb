{
 "cells": [
  {
   "cell_type": "markdown",
   "metadata": {
    "deletable": false,
    "editable": false,
    "nbgrader": {
     "cell_type": "markdown",
     "checksum": "f3eab3263df7bff172a5c0391ba4e45c",
     "grade": false,
     "grade_id": "cell-d0bdb64a4a5e1058",
     "locked": true,
     "schema_version": 3,
     "solution": false,
     "task": false
    }
   },
   "source": [
    "# INFO257 Inteligencia Artificial: Prueba 3\n",
    "\n",
    "- Profesor responsable: Pablo Huijse\n",
    "- Consultas: phuijse at inf dot uach dot cl o slack\n",
    "\n",
    "## Instrucciones generales\n",
    "\n",
    "- No elimine ni agregue bloques a este cuadernillo\n",
    "- Conteste en los espacios indicados. Puede usar texto plano, markdown o latex. También puede insertar imágenes (menú View/Insert Image)\n",
    "- La prueba es individual: Está prohibido discutir la prueba con sus compañeros\n",
    "- Siga el [código de ética de la ACM](https://www.acm.org/about-acm/code-of-ethics-in-spanish): Sea honesto y leal\n",
    "- Entregue su trabajo por correo antes de la hora de término\n"
   ]
  },
  {
   "cell_type": "markdown",
   "metadata": {
    "deletable": false,
    "editable": false,
    "nbgrader": {
     "cell_type": "markdown",
     "checksum": "b2d01f12f8e883d87151db46dd574989",
     "grade": false,
     "grade_id": "cell-d5dc446765cbc1dc",
     "locked": true,
     "schema_version": 3,
     "solution": false,
     "task": false
    }
   },
   "source": [
    "***\n",
    "\n",
    "## Pregunta 0\n",
    "\n",
    "Escriba su nombre completo en el siguiente bloque:\n",
    "***"
   ]
  },
  {
   "cell_type": "markdown",
   "metadata": {
    "deletable": false,
    "nbgrader": {
     "cell_type": "markdown",
     "checksum": "f91554b2ef42f6145e893af53c748089",
     "grade": true,
     "grade_id": "cell-ef31b70a552b5868",
     "locked": false,
     "points": 0,
     "schema_version": 3,
     "solution": true,
     "task": false
    }
   },
   "source": [
    "YOUR ANSWER HERE"
   ]
  },
  {
   "cell_type": "markdown",
   "metadata": {
    "deletable": false,
    "editable": false,
    "nbgrader": {
     "cell_type": "markdown",
     "checksum": "7546d45fa9705d406b524ae922b67812",
     "grade": false,
     "grade_id": "cell-b7c86b84828409b7",
     "locked": true,
     "schema_version": 3,
     "solution": false,
     "task": false
    }
   },
   "source": [
    "***\n",
    "\n",
    "## Pregunta 1\n",
    "\n",
    "Sea una función de costo continua y derivable $L(\\theta)$ sobre un modelo con un parámetro $\\theta$\n",
    "\n",
    "Podemos buscar un mínimo de $L$ usando\n",
    "\n",
    "$$\n",
    "\\theta_{t+1} =  \\theta_t - \\eta \\frac{dL}{d\\theta},\n",
    "$$\n",
    "\n",
    "que se conoce como la regla iterativa de gradiente descendente (GD)\n",
    "\n",
    "- (2pt) Explique conceptualmente como funciona la regla de GD y el significado de cada término de la ecuación\n",
    "- (1pt) Explique que ocurre si el valor de $\\eta$ es demasiado pequeño o demasiado grande\n",
    "- (1pt) Explique que ocurre si $L(\\theta)$ tiene mínimos locales. Explique dos estrategias que faciliten la búsqueda del óptimo global en este caso\n",
    "- (2pt) Indique las diferencias entre GD de tipo estocástico y batch. Explicite ventajas y desventajas de cada uno. Contraste con GD usando mini-batch\n",
    "***"
   ]
  },
  {
   "cell_type": "markdown",
   "metadata": {
    "deletable": false,
    "nbgrader": {
     "cell_type": "markdown",
     "checksum": "0ead10f47f57fb97f27cc63f56200f31",
     "grade": true,
     "grade_id": "cell-f2ce7ca77d552490",
     "locked": false,
     "points": 6,
     "schema_version": 3,
     "solution": true,
     "task": false
    }
   },
   "source": [
    "YOUR ANSWER HERE"
   ]
  },
  {
   "cell_type": "markdown",
   "metadata": {
    "deletable": false,
    "editable": false,
    "nbgrader": {
     "cell_type": "markdown",
     "checksum": "587e9f6133e759ffe44563205763b431",
     "grade": false,
     "grade_id": "cell-a6f78f1438811908",
     "locked": true,
     "schema_version": 3,
     "solution": false,
     "task": false
    }
   },
   "source": [
    "***\n",
    "\n",
    "## Pregunta 2\n",
    "\n",
    "Una red neuronal para clasificación binaria con una capa oculta con función de activación  $\\phi(\\cdot)$ se describe matemáticamente como\n",
    "\n",
    "$$\n",
    "y = \\text{sgm} \\left( \\sum_{i=1}^{10} \\hat w_i \\cdot \\phi \\left( \\sum_{j=1}^2 w_{ij}\\cdot x_j + b_i \\right)  + \\hat b\\right),\n",
    "$$\n",
    "\n",
    "\n",
    "- (2pt) En este caso ¿Cuál es la dimensionalidad de la entrada? ¿Cuántas neuronas tiene la capa oculta? ¿Cuántos parámetros tiene la red en total? En el caso general ¿En qué influye la cantidad de neuronas y la cantidad de capas ocultas?\n",
    "- (2pt) ¿Qué ventaja otorga usar $\\phi(x)$ no lineal? Muestre que si $\\phi(x)=x$ entonces la red neuronal es equivalente a una neurona\n",
    "- (2pt) Si $\\phi(x) = \\max(0, x)$ (ReLU) ¿Qué ocurre si inicializamos con todos los parámetros iguales a cero? ¿Es posible entrenar la red con gradiente descendente? ¿Qué tipo de inicialización podría ser más conveniente?\n",
    "***"
   ]
  },
  {
   "cell_type": "markdown",
   "metadata": {
    "deletable": false,
    "nbgrader": {
     "cell_type": "markdown",
     "checksum": "dc514ac398efa7d776281e37b269fac8",
     "grade": true,
     "grade_id": "cell-97da95278d30d3a1",
     "locked": false,
     "points": 6,
     "schema_version": 3,
     "solution": true,
     "task": false
    }
   },
   "source": [
    "YOUR ANSWER HERE"
   ]
  },
  {
   "cell_type": "markdown",
   "metadata": {
    "deletable": false,
    "editable": false,
    "nbgrader": {
     "cell_type": "markdown",
     "checksum": "c3690245655bf7ecf6166fced3ab7081",
     "grade": false,
     "grade_id": "cell-3775e515da503d59",
     "locked": true,
     "schema_version": 3,
     "solution": false,
     "task": false
    }
   },
   "source": [
    "***\n",
    "\n",
    "## Pregunta 3\n",
    "\n",
    "Sea una imagen de un sólo canal definida como\n",
    "\n",
    "```python\n",
    "I = [[2, 0, 0, 1, 0],\n",
    "     [0, 1, 1, 2, 0],\n",
    "     [3, 1, 0, 1, 0], \n",
    "     [0, 2, 0, 1, 1], \n",
    "     [1, 1, 3, 1, 2]]\n",
    "```\n",
    "\n",
    "y una capa convolucional con dos filtros definidos como\n",
    "\n",
    "```python\n",
    "K1 = [[0, 1, 0], \n",
    "      [1, 1, 1], \n",
    "      [0, 1, 0]]\n",
    "\n",
    "K2 = [[-1, 1, 0], \n",
    "      [-1, 1, 0], \n",
    "      [-1, 1, 0]]\n",
    "\n",
    "```\n",
    "\n",
    "Esta capa convolucional no tiene sesgos\n",
    "\n",
    "- (4pt) Asumiendo un stride de 2 y que se aplica *zero-padding* de 1 pixel en la entrada: Obtenga los *features maps* de esta capa convolucional\n",
    "- (2pt) Aplique la función de activación ReLU a los *feature maps*, luego realice una operación de max-pooling de tamaño $2\\times2$ con stride de $1$ (sin padding) y muestre el resultado. Indique desde que posición/es en la entrada se origina la información que queda luego de aplicar max-pooling\n",
    "***"
   ]
  },
  {
   "cell_type": "markdown",
   "metadata": {
    "deletable": false,
    "nbgrader": {
     "cell_type": "markdown",
     "checksum": "36e435e6cb6287a57a5b9434d7d8b048",
     "grade": true,
     "grade_id": "cell-95c619d17850748b",
     "locked": false,
     "points": 6,
     "schema_version": 3,
     "solution": true,
     "task": false
    }
   },
   "source": [
    "YOUR ANSWER HERE"
   ]
  },
  {
   "cell_type": "markdown",
   "metadata": {
    "deletable": false,
    "editable": false,
    "nbgrader": {
     "cell_type": "markdown",
     "checksum": "6dc60b1a57ca8aac08e581846b37243b",
     "grade": false,
     "grade_id": "cell-393f29de61cf28b4",
     "locked": true,
     "schema_version": 3,
     "solution": false,
     "task": false
    }
   },
   "source": [
    "***\n",
    "## Pregunta 4\n",
    "\n",
    "Para entrenar un modelo supervisado usted particiona sus datos en conjuntos de **Entrenamiento, Validación y Prueba**\n",
    "\n",
    "Al finalizar el entrenamiento usted mide la función de costo o *loss function* total en cada conjunto obteniendo $L_E$, $L_V$ y $L_P$, respectivamente\n",
    "\n",
    "\n",
    "- (2pt) Suponga que $L_E \\ll L_V$ ¿Qué puede teorizar sobre la capacidad/complejidad de su modelo? ¿Qué puede teorizar sobre la cantidad de datos de entrenamiento que se usaron? \n",
    "- (4pt) Escoja dos de los siguientes métodos, descríbalos en detalle explicando cómo ayudan a combatir el sobreajuste del modelo\n",
    "    - Early Stopping\n",
    "    - Aumentación de datos \n",
    "    - Decaimiento de pesos\n",
    "    - Dropout\n",
    "***    "
   ]
  },
  {
   "cell_type": "markdown",
   "metadata": {
    "deletable": false,
    "nbgrader": {
     "cell_type": "markdown",
     "checksum": "98a037085b7ff86fff2a95b38a6cde5b",
     "grade": true,
     "grade_id": "cell-6c62b9cc52d5eadd",
     "locked": false,
     "points": 6,
     "schema_version": 3,
     "solution": true,
     "task": false
    }
   },
   "source": [
    "YOUR ANSWER HERE"
   ]
  },
  {
   "cell_type": "markdown",
   "metadata": {},
   "source": [
    "***"
   ]
  }
 ],
 "metadata": {
  "kernelspec": {
   "display_name": "Python 3",
   "language": "python",
   "name": "python3"
  },
  "language_info": {
   "codemirror_mode": {
    "name": "ipython",
    "version": 3
   },
   "file_extension": ".py",
   "mimetype": "text/x-python",
   "name": "python",
   "nbconvert_exporter": "python",
   "pygments_lexer": "ipython3",
   "version": "3.8.1"
  }
 },
 "nbformat": 4,
 "nbformat_minor": 4
}
